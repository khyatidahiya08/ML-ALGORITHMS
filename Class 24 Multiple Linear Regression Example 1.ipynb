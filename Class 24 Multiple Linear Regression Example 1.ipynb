{
 "cells": [
  {
   "cell_type": "code",
   "execution_count": 1,
   "metadata": {},
   "outputs": [],
   "source": [
    "import pandas as pd\n",
    "import numpy as np\n",
    "import matplotlib.pyplot as plt\n",
    "from sklearn.metrics import accuracy_score\n",
    "from sklearn.model_selection import train_test_split\n",
    "from sklearn.linear_model import LinearRegression\n",
    "from sklearn import metrics"
   ]
  },
  {
   "cell_type": "markdown",
   "metadata": {},
   "source": [
    "# however MLR is the poorest ML algorithm with least accuracy"
   ]
  },
  {
   "cell_type": "code",
   "execution_count": null,
   "metadata": {},
   "outputs": [],
   "source": [
    "#used when there are  multiple dependent variables"
   ]
  },
  {
   "cell_type": "code",
   "execution_count": 2,
   "metadata": {
    "collapsed": true
   },
   "outputs": [
    {
     "data": {
      "text/html": [
       "<div>\n",
       "<style scoped>\n",
       "    .dataframe tbody tr th:only-of-type {\n",
       "        vertical-align: middle;\n",
       "    }\n",
       "\n",
       "    .dataframe tbody tr th {\n",
       "        vertical-align: top;\n",
       "    }\n",
       "\n",
       "    .dataframe thead th {\n",
       "        text-align: right;\n",
       "    }\n",
       "</style>\n",
       "<table border=\"1\" class=\"dataframe\">\n",
       "  <thead>\n",
       "    <tr style=\"text-align: right;\">\n",
       "      <th></th>\n",
       "      <th>Percentage</th>\n",
       "      <th>Backlog</th>\n",
       "      <th>Internship</th>\n",
       "      <th>First_Round</th>\n",
       "      <th>Communication_Skills</th>\n",
       "      <th>Hired</th>\n",
       "      <th>Unnamed: 6</th>\n",
       "    </tr>\n",
       "  </thead>\n",
       "  <tbody>\n",
       "    <tr>\n",
       "      <th>0</th>\n",
       "      <td>81.0</td>\n",
       "      <td>0</td>\n",
       "      <td>1</td>\n",
       "      <td>75.0</td>\n",
       "      <td>80.0</td>\n",
       "      <td>1</td>\n",
       "      <td>NaN</td>\n",
       "    </tr>\n",
       "    <tr>\n",
       "      <th>1</th>\n",
       "      <td>70.0</td>\n",
       "      <td>0</td>\n",
       "      <td>3</td>\n",
       "      <td>87.0</td>\n",
       "      <td>70.0</td>\n",
       "      <td>1</td>\n",
       "      <td>NaN</td>\n",
       "    </tr>\n",
       "    <tr>\n",
       "      <th>2</th>\n",
       "      <td>81.0</td>\n",
       "      <td>2</td>\n",
       "      <td>3</td>\n",
       "      <td>75.0</td>\n",
       "      <td>67.0</td>\n",
       "      <td>0</td>\n",
       "      <td>NaN</td>\n",
       "    </tr>\n",
       "    <tr>\n",
       "      <th>3</th>\n",
       "      <td>56.0</td>\n",
       "      <td>3</td>\n",
       "      <td>3</td>\n",
       "      <td>42.0</td>\n",
       "      <td>76.0</td>\n",
       "      <td>0</td>\n",
       "      <td>NaN</td>\n",
       "    </tr>\n",
       "    <tr>\n",
       "      <th>4</th>\n",
       "      <td>74.0</td>\n",
       "      <td>4</td>\n",
       "      <td>3</td>\n",
       "      <td>82.0</td>\n",
       "      <td>75.0</td>\n",
       "      <td>1</td>\n",
       "      <td>NaN</td>\n",
       "    </tr>\n",
       "  </tbody>\n",
       "</table>\n",
       "</div>"
      ],
      "text/plain": [
       "   Percentage  Backlog  Internship  First_Round  Communication_Skills  Hired  \\\n",
       "0        81.0        0           1         75.0                  80.0      1   \n",
       "1        70.0        0           3         87.0                  70.0      1   \n",
       "2        81.0        2           3         75.0                  67.0      0   \n",
       "3        56.0        3           3         42.0                  76.0      0   \n",
       "4        74.0        4           3         82.0                  75.0      1   \n",
       "\n",
       "   Unnamed: 6  \n",
       "0         NaN  \n",
       "1         NaN  \n",
       "2         NaN  \n",
       "3         NaN  \n",
       "4         NaN  "
      ]
     },
     "execution_count": 2,
     "metadata": {},
     "output_type": "execute_result"
    }
   ],
   "source": [
    "data=pd.read_csv('hire.csv')\n",
    "data.head()"
   ]
  },
  {
   "cell_type": "code",
   "execution_count": 3,
   "metadata": {},
   "outputs": [
    {
     "data": {
      "text/plain": [
       "array([[ 81.,   0.,   1.,  75.,  80.],\n",
       "       [ 70.,   0.,   3.,  87.,  70.],\n",
       "       [ 81.,   2.,   3.,  75.,  67.],\n",
       "       ...,\n",
       "       [ 65.,   2.,   1.,  60.,  70.],\n",
       "       [100.,   5.,   3.,  88.,  88.],\n",
       "       [100.,   8.,   1.,  88.,  88.]])"
      ]
     },
     "execution_count": 3,
     "metadata": {},
     "output_type": "execute_result"
    }
   ],
   "source": [
    "real_x=data.iloc[:,0:5].values\n",
    "real_x"
   ]
  },
  {
   "cell_type": "code",
   "execution_count": 4,
   "metadata": {},
   "outputs": [
    {
     "data": {
      "text/plain": [
       "array([1, 1, 0, 0, 1, 1, 0, 1, 1, 1, 1, 1, 1, 1, 1, 1, 1, 1, 1, 1, 1, 1,\n",
       "       1, 1, 1, 1, 1, 1, 1, 1, 1, 1, 1, 1, 1, 1, 0, 0, 0, 0, 0, 0, 0, 0,\n",
       "       0, 0, 1, 1, 1, 1, 1, 1, 1, 1, 1, 1, 1, 0, 0, 0, 0, 0, 0, 0, 0, 0,\n",
       "       0, 0, 1, 1, 1, 1, 1, 1, 1, 1, 1, 1, 1, 1, 1, 1, 1, 1, 1, 0, 1, 1,\n",
       "       0, 1, 0, 1, 0, 0, 0, 0, 1, 0, 1, 1, 1, 0, 0, 1, 0, 0, 1, 0, 0, 0,\n",
       "       1, 0, 1, 1, 1, 1, 1, 1, 1, 0, 1, 0, 1, 1, 1, 0, 1, 0, 0, 0, 1, 1,\n",
       "       1, 0, 1, 0, 0, 1, 0, 1, 1, 1, 1, 1, 1, 1, 1, 1, 1, 0, 0, 0, 0, 0,\n",
       "       0, 0, 0, 0, 0, 1, 1, 1, 1, 1, 1, 1, 1, 1, 0, 0, 0, 0, 0, 0, 0, 0,\n",
       "       0, 0, 0, 0, 1, 1, 1, 0, 1, 1, 1, 0, 1, 0, 1, 1, 1, 1, 1, 1, 1, 1,\n",
       "       1, 0, 0, 1, 0, 0, 0, 0, 0, 0, 0, 1, 1, 0, 1, 1, 1, 1, 0, 0, 1, 0,\n",
       "       1, 1, 0, 1, 1, 0, 1, 0, 0, 1, 1, 1, 0, 0, 1, 1, 0, 1, 0, 1, 1, 0,\n",
       "       0, 0, 1, 1, 1, 1, 0, 0, 0, 0, 1, 1, 0, 0, 1, 0, 0, 0, 0, 1, 0, 1,\n",
       "       0, 1, 1, 0, 1, 0, 1, 0, 0, 1, 1, 1, 1, 1, 1, 1, 0, 1, 0, 1, 1, 1,\n",
       "       1, 1, 1, 1, 1, 1, 1, 1, 1, 0, 0, 0, 0, 0, 0, 0, 0, 0, 0, 1, 0, 1,\n",
       "       1, 1, 0, 1, 1, 1, 1, 1, 1, 0, 1, 1, 0, 1, 1, 1, 0, 1, 0, 1, 1, 0,\n",
       "       0, 0, 1, 0, 0, 1, 1, 0, 0, 1, 1, 1, 1, 1, 1, 1, 1, 1, 1, 1, 0, 0,\n",
       "       0, 0, 0, 0, 0, 0, 0, 0, 0, 1, 1, 1, 0, 1, 0, 1, 1, 0, 1, 0, 0, 1,\n",
       "       1, 1, 0], dtype=int64)"
      ]
     },
     "execution_count": 4,
     "metadata": {},
     "output_type": "execute_result"
    }
   ],
   "source": [
    "real_y=data.iloc[:,5].values\n",
    "real_y"
   ]
  },
  {
   "cell_type": "code",
   "execution_count": 5,
   "metadata": {},
   "outputs": [],
   "source": [
    "training_x,test_x,training_y,test_y=train_test_split(real_x,real_y,test_size=0.2,random_state=0)"
   ]
  },
  {
   "cell_type": "code",
   "execution_count": 6,
   "metadata": {
    "collapsed": true
   },
   "outputs": [
    {
     "data": {
      "text/plain": [
       "array([[ 50. ,   3. ,   1. ,  40. ,  50. ],\n",
       "       [ 92. ,   0. ,   6. ,  80. ,  88. ],\n",
       "       [ 68.2,   2. ,   1. ,  50. ,  60. ],\n",
       "       ...,\n",
       "       [ 50. ,   4. ,   2. ,  60. , 100. ],\n",
       "       [ 72. ,   1. ,   4. ,  70. ,  80. ],\n",
       "       [ 65. ,   5. ,   4. ,  23. ,  45. ]])"
      ]
     },
     "execution_count": 6,
     "metadata": {},
     "output_type": "execute_result"
    }
   ],
   "source": [
    "training_x"
   ]
  },
  {
   "cell_type": "code",
   "execution_count": 7,
   "metadata": {
    "collapsed": true
   },
   "outputs": [
    {
     "data": {
      "text/plain": [
       "array([[ 82.  ,   0.  ,   2.  ,  63.  ,  73.  ],\n",
       "       [ 83.  ,   1.  ,   2.  ,  62.  ,  89.  ],\n",
       "       [ 59.  ,   8.  ,   2.  ,  75.  ,  65.  ],\n",
       "       [ 78.  ,   1.  ,   1.  ,  70.  ,  75.  ],\n",
       "       [ 60.  ,   0.  ,   3.  ,  66.  ,  62.  ],\n",
       "       [ 90.  ,   0.  ,   3.  ,  80.  ,  80.  ],\n",
       "       [ 67.  ,   1.  ,   2.  ,  62.  ,  73.  ],\n",
       "       [ 85.  ,   3.  ,   2.  ,  75.  ,  75.  ],\n",
       "       [ 85.  ,   0.  ,   4.  ,  85.  ,  90.  ],\n",
       "       [ 92.  ,   0.  ,   4.  ,  89.  ,  78.  ],\n",
       "       [ 56.  ,   3.  ,   1.  ,  70.  ,  59.  ],\n",
       "       [ 85.  ,   3.  ,   4.  ,  82.  ,  75.  ],\n",
       "       [ 67.  ,   4.  ,   6.  ,  60.  ,  55.  ],\n",
       "       [ 80.  ,   1.  ,   2.  ,  70.  ,  80.  ],\n",
       "       [ 62.  ,   7.  ,   1.  ,  77.  ,  67.  ],\n",
       "       [ 71.6 ,   0.  ,   4.  ,  75.  ,  85.  ],\n",
       "       [ 80.  ,   2.  ,   4.  ,  80.  ,  80.  ],\n",
       "       [ 58.  ,   5.  ,   2.  ,  60.  ,  70.  ],\n",
       "       [ 30.  ,   8.  ,   0.  ,  20.  ,  35.  ],\n",
       "       [ 73.  ,   0.  ,   2.  ,  70.  ,  72.  ],\n",
       "       [ 70.  ,   3.  ,   5.  ,  88.  ,  71.  ],\n",
       "       [ 68.  ,   5.  ,   1.  ,  80.  ,  73.  ],\n",
       "       [ 77.  ,   0.  ,   0.  ,  75.  ,  80.  ],\n",
       "       [ 67.  ,   2.  ,   1.  ,  65.  ,  75.  ],\n",
       "       [ 73.  ,   1.  ,   2.  ,  69.  ,  75.  ],\n",
       "       [ 92.  ,   4.  ,   4.  ,  83.  ,  72.  ],\n",
       "       [ 92.  ,   0.  ,   3.  ,  80.  ,  85.  ],\n",
       "       [ 71.  ,   2.  ,   1.  ,  60.  ,  77.  ],\n",
       "       [ 46.  ,   3.  ,   1.  ,  67.  ,  86.  ],\n",
       "       [ 70.  ,   0.  ,   3.  ,  87.  ,  70.  ],\n",
       "       [ 55.  ,   2.  ,   0.  ,  65.  ,  70.  ],\n",
       "       [ 60.  ,   1.  ,   3.  ,  65.  , 100.  ],\n",
       "       [ 56.  ,   1.  ,   0.  ,  66.  ,  55.  ],\n",
       "       [ 87.  ,   1.  ,   2.  ,  66.  ,  87.  ],\n",
       "       [ 55.  ,   7.  ,  12.  ,  71.  ,  81.  ],\n",
       "       [ 65.  ,   1.  ,   4.  ,  60.  ,  75.  ],\n",
       "       [ 90.  ,   0.  ,   3.  ,  87.  ,  77.  ],\n",
       "       [ 70.  ,   2.  ,   3.  ,  81.  ,  72.  ],\n",
       "       [ 90.  ,   0.  ,   1.  ,  88.  ,  89.  ],\n",
       "       [ 87.  ,   0.  ,   1.  ,  85.  ,  85.  ],\n",
       "       [ 92.  ,   3.  ,   5.  ,  96.  ,  92.  ],\n",
       "       [ 78.  ,   1.  ,   1.  ,  72.  ,  73.  ],\n",
       "       [100.  ,   8.  ,   1.  ,  88.  ,  88.  ],\n",
       "       [ 70.  ,   1.  ,   2.  ,  70.  ,  45.  ],\n",
       "       [ 80.  ,   0.  ,   2.  ,  60.  ,  60.  ],\n",
       "       [ 67.  ,   1.  ,   1.  ,  64.  ,  75.  ],\n",
       "       [ 78.  ,   2.  ,   4.  ,  88.  ,  78.  ],\n",
       "       [ 74.  ,   1.  ,   4.  ,  88.  ,  77.  ],\n",
       "       [ 69.  ,   0.  ,   2.  ,  74.  ,  71.  ],\n",
       "       [ 86.  ,   1.  ,   1.  ,  78.  ,  70.  ],\n",
       "       [ 76.  ,   2.  ,   4.  ,  75.  ,  78.  ],\n",
       "       [ 70.  ,   0.  ,   1.  ,  78.  ,  75.  ],\n",
       "       [ 62.  ,   1.  ,   1.  ,  70.  ,  72.  ],\n",
       "       [ 79.  ,   1.  ,   1.  ,  65.  ,  79.  ],\n",
       "       [ 64.  ,   0.  ,   0.  ,  56.  ,  55.  ],\n",
       "       [ 91.  ,   0.  ,   2.  ,  75.  ,  71.  ],\n",
       "       [ 82.  ,   4.  ,   5.  ,  86.  ,  78.  ],\n",
       "       [ 87.  ,   0.  ,   1.  ,  88.  ,  85.  ],\n",
       "       [ 85.  ,   6.  ,   1.  ,  82.  ,  57.  ],\n",
       "       [ 70.  ,   0.  ,   1.  ,   1.  ,  80.  ],\n",
       "       [ 67.  ,   0.  ,   3.  ,  71.  ,  72.  ],\n",
       "       [ 78.  ,   2.  ,   3.  ,  85.  ,  78.  ],\n",
       "       [ 60.  ,   0.  ,   2.  ,  75.  ,  75.  ],\n",
       "       [ 88.  ,   0.  ,   3.  ,  90.  ,  87.  ],\n",
       "       [ 70.  ,   0.  ,   1.  ,  70.  ,  80.  ],\n",
       "       [ 50.  ,   3.  ,   0.  ,  50.  ,  50.  ],\n",
       "       [ 98.  ,   1.  ,   4.  ,  80.  ,  89.  ],\n",
       "       [ 85.  ,   0.  ,   0.  ,  85.  ,  75.  ],\n",
       "       [ 78.  ,   0.  ,   2.  ,  97.  ,  94.  ],\n",
       "       [ 70.  ,   1.  ,   3.  ,  85.  ,  75.  ],\n",
       "       [ 65.  ,   0.  ,   3.  ,  62.  ,  75.  ],\n",
       "       [ 76.  ,   0.  ,   7.  ,  90.  ,  80.  ],\n",
       "       [ 85.  ,   1.  ,   1.  ,  65.  ,  72.  ],\n",
       "       [ 65.  ,   3.  ,   3.  ,  80.  ,  70.  ],\n",
       "       [ 62.  ,   3.  ,   1.  ,  54.  ,  70.  ],\n",
       "       [ 80.48,   0.  ,   3.  ,  79.  ,  88.89]])"
      ]
     },
     "execution_count": 7,
     "metadata": {},
     "output_type": "execute_result"
    }
   ],
   "source": [
    "test_x"
   ]
  },
  {
   "cell_type": "code",
   "execution_count": 8,
   "metadata": {
    "collapsed": true
   },
   "outputs": [
    {
     "data": {
      "text/plain": [
       "array([0, 1, 1, 0, 0, 1, 1, 0, 0, 0, 1, 0, 1, 1, 0, 0, 0, 0, 1, 1, 0, 1,\n",
       "       1, 0, 1, 1, 0, 0, 0, 1, 1, 0, 0, 1, 1, 1, 1, 1, 1, 1, 0, 1, 1, 1,\n",
       "       1, 1, 1, 1, 0, 1, 0, 1, 1, 0, 1, 1, 0, 1, 1, 1, 0, 0, 1, 0, 1, 1,\n",
       "       0, 0, 0, 0, 0, 1, 0, 1, 0, 1, 0, 1, 1, 1, 1, 0, 0, 1, 1, 1, 1, 1,\n",
       "       0, 1, 1, 1, 0, 1, 0, 0, 0, 1, 0, 0, 1, 1, 0, 1, 0, 0, 0, 0, 0, 0,\n",
       "       1, 1, 1, 0, 1, 1, 1, 1, 0, 1, 0, 1, 1, 1, 1, 0, 1, 1, 0, 1, 1, 0,\n",
       "       0, 0, 0, 1, 0, 0, 0, 1, 0, 1, 0, 0, 0, 1, 1, 1, 1, 1, 1, 0, 0, 0,\n",
       "       1, 0, 1, 1, 0, 0, 0, 1, 1, 0, 1, 1, 0, 0, 0, 1, 1, 1, 0, 1, 1, 1,\n",
       "       1, 0, 1, 1, 0, 1, 0, 1, 0, 1, 0, 1, 0, 0, 0, 0, 1, 1, 0, 0, 0, 1,\n",
       "       0, 0, 1, 1, 0, 1, 0, 1, 1, 0, 1, 0, 1, 0, 1, 0, 1, 0, 1, 1, 0, 1,\n",
       "       0, 1, 1, 1, 1, 0, 1, 0, 0, 1, 0, 1, 1, 1, 1, 0, 0, 1, 0, 0, 1, 0,\n",
       "       0, 1, 0, 0, 1, 0, 0, 1, 1, 0, 1, 0, 1, 0, 1, 1, 0, 1, 1, 1, 1, 1,\n",
       "       1, 1, 0, 1, 0, 1, 1, 0, 1, 1, 1, 0, 1, 1, 0, 1, 0, 1, 0, 1, 1, 0,\n",
       "       1, 1, 1, 0, 1, 0, 1, 0, 1, 0, 1, 1, 1, 1, 0], dtype=int64)"
      ]
     },
     "execution_count": 8,
     "metadata": {},
     "output_type": "execute_result"
    }
   ],
   "source": [
    "training_y"
   ]
  },
  {
   "cell_type": "code",
   "execution_count": 9,
   "metadata": {
    "collapsed": true
   },
   "outputs": [
    {
     "data": {
      "text/plain": [
       "array([1, 1, 0, 1, 0, 1, 1, 1, 1, 1, 0, 1, 0, 1, 0, 1, 1, 0, 0, 1, 1, 0,\n",
       "       0, 1, 1, 1, 1, 0, 0, 1, 0, 1, 0, 1, 1, 0, 1, 1, 1, 1, 1, 1, 0, 0,\n",
       "       0, 1, 1, 1, 1, 1, 0, 1, 0, 1, 0, 1, 1, 1, 0, 1, 1, 1, 0, 1, 1, 0,\n",
       "       1, 0, 1, 1, 1, 1, 1, 1, 0, 1], dtype=int64)"
      ]
     },
     "execution_count": 9,
     "metadata": {},
     "output_type": "execute_result"
    }
   ],
   "source": [
    "test_y"
   ]
  },
  {
   "cell_type": "code",
   "execution_count": 11,
   "metadata": {},
   "outputs": [
    {
     "data": {
      "text/plain": [
       "LinearRegression(copy_X=True, fit_intercept=True, n_jobs=None, normalize=False)"
      ]
     },
     "execution_count": 11,
     "metadata": {},
     "output_type": "execute_result"
    }
   ],
   "source": [
    "mlr=LinearRegression()\n",
    "mlr.fit(training_x,training_y)"
   ]
  },
  {
   "cell_type": "code",
   "execution_count": 12,
   "metadata": {
    "collapsed": true
   },
   "outputs": [
    {
     "data": {
      "text/plain": [
       "array([ 0.65443056,  0.71481971,  0.08944341,  0.61984327,  0.46205042,\n",
       "        0.92157283,  0.48347166,  0.62301768,  1.02008541,  1.01582016,\n",
       "        0.23578769,  0.72309535,  0.26024725,  0.69236441,  0.17452629,\n",
       "        0.80670004,  0.76187725,  0.16185629, -0.82360153,  0.6386183 ,\n",
       "        0.65608014,  0.39486195,  0.7219636 ,  0.44553584,  0.59759224,\n",
       "        0.7051819 ,  0.97223032,  0.44862992,  0.33515917,  0.76120143,\n",
       "        0.30088546,  0.67464587,  0.26216849,  0.76137896,  0.41768422,\n",
       "        0.51116565,  0.95618422,  0.61796379,  1.00746293,  0.93268868,\n",
       "        1.03133782,  0.62145072,  0.63462593,  0.36661366,  0.52165228,\n",
       "        0.49220077,  0.79735918,  0.81597615,  0.63472049,  0.70571545,\n",
       "        0.67828263,  0.6812553 ,  0.48269749,  0.61579124,  0.29408633,\n",
       "        0.80145488,  0.72254444,  0.95683884,  0.36292553,  0.09763276,\n",
       "        0.62525445,  0.75134537,  0.60683954,  1.03837182,  0.65308651,\n",
       "       -0.05557154,  1.01164184,  0.82393589,  1.05145362,  0.72661798,\n",
       "        0.5601171 ,  0.98854702,  0.60834448,  0.50464147,  0.22997399,\n",
       "        0.9092756 ])"
      ]
     },
     "execution_count": 12,
     "metadata": {},
     "output_type": "execute_result"
    }
   ],
   "source": [
    "pred_y=mlr.predict(test_x)\n",
    "pred_y"
   ]
  },
  {
   "cell_type": "code",
   "execution_count": 13,
   "metadata": {
    "collapsed": true
   },
   "outputs": [
    {
     "data": {
      "text/plain": [
       "array([1, 1, 0, 1, 0, 1, 1, 1, 1, 1, 0, 1, 0, 1, 0, 1, 1, 0, 0, 1, 1, 0,\n",
       "       0, 1, 1, 1, 1, 0, 0, 1, 0, 1, 0, 1, 1, 0, 1, 1, 1, 1, 1, 1, 0, 0,\n",
       "       0, 1, 1, 1, 1, 1, 0, 1, 0, 1, 0, 1, 1, 1, 0, 1, 1, 1, 0, 1, 1, 0,\n",
       "       1, 0, 1, 1, 1, 1, 1, 1, 0, 1], dtype=int64)"
      ]
     },
     "execution_count": 13,
     "metadata": {},
     "output_type": "execute_result"
    }
   ],
   "source": [
    "test_y"
   ]
  },
  {
   "cell_type": "code",
   "execution_count": null,
   "metadata": {},
   "outputs": [],
   "source": []
  }
 ],
 "metadata": {
  "kernelspec": {
   "display_name": "Python 3",
   "language": "python",
   "name": "python3"
  },
  "language_info": {
   "codemirror_mode": {
    "name": "ipython",
    "version": 3
   },
   "file_extension": ".py",
   "mimetype": "text/x-python",
   "name": "python",
   "nbconvert_exporter": "python",
   "pygments_lexer": "ipython3",
   "version": "3.8.8"
  }
 },
 "nbformat": 4,
 "nbformat_minor": 2
}
